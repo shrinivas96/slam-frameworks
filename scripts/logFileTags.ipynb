{
 "cells": [
  {
   "cell_type": "code",
   "execution_count": null,
   "metadata": {},
   "outputs": [],
   "source": [
    "\"\"\"\n",
    "A beautiful upgrade to the dumb way of counting how many tags and which tags are present in a file.\n",
    "Basically goes through every file and checks the first word of each file to find out the tag that it\n",
    "belongs to and then increments the counter. Also gives a quick overview of which tags are present in the file in the first place.\n",
    "\"\"\""
   ]
  },
  {
   "cell_type": "code",
   "execution_count": 1,
   "metadata": {},
   "outputs": [],
   "source": [
    "import tkinter as tk\n",
    "from tkinter import filedialog\n",
    "\n",
    "root = tk.Tk()\n",
    "root.withdraw()\n",
    "\n",
    "file_path = filedialog.askopenfilename()"
   ]
  },
  {
   "cell_type": "code",
   "execution_count": 2,
   "metadata": {},
   "outputs": [
    {
     "name": "stdout",
     "output_type": "stream",
     "text": [
      "/home/shrini/thesis-workspace/slam-frameworks/dataset/freiburg-dataset/fr-campus-20040714.carmen.log\n"
     ]
    }
   ],
   "source": [
    "# fileName = \"../dataset/csail-dataset/mit-csail-3rd-floor-2005-12-17-run4.log\"\n",
    "# \"../dataset/csail-dataset/csail-oldcarmen.log\"\n",
    "# \"../dataset/freiburg-dataset/fr-campus-20040714.carmen.log\"\n",
    "# files = [\"../dataset/intel-dataset/intel.log\"]\n",
    "files = [file_path]\n",
    "print(file_path)"
   ]
  },
  {
   "cell_type": "code",
   "execution_count": null,
   "metadata": {},
   "outputs": [],
   "source": [
    "for fileName in files:\n",
    "    with open(fileName) as f:\n",
    "        lines = f.readlines()\n",
    "    f.close()\n",
    "\n",
    "    tagsDict = {}\n",
    "    \n",
    "    count = 1\n",
    "    for line in lines:\n",
    "        tokens = line.split()\n",
    "        if tokens[0] in tagsDict.keys():\n",
    "            tagsDict[tokens[0]] += 1\n",
    "        else:\n",
    "            tagsDict[tokens[0]] = 0\n",
    "            print(\"initiated: \", tokens[0])\n",
    "        count += 1\n",
    "\n",
    "    print(count)\n",
    "    print(tagsDict)"
   ]
  },
  {
   "cell_type": "code",
   "execution_count": null,
   "metadata": {},
   "outputs": [],
   "source": [
    "# freiburg-dataset/fr-campus-20040714.carmen.log\n",
    "# {'PARAM': 244, 'ODOM': 30245, 'FLASER': 15682}\n",
    "\n",
    "# freiburg-dataset/fr-campus-20040714.carmen.gfs.log <<<<\n",
    "#  {'ODOM': 17690, 'FLASER': 2007, 'NEFF': 2007}\n",
    "\n",
    "# freiburg-dataset/fr-campus-20040714.carmen.gfs\n",
    "# {'ODO_UPDATE': 15682, 'FRAME': 2007, 'Scan': 99, 'LASER_READING': 2007, 'SM_UPDATE': 2007, 'NEFF': 2007, 'RESAMPLE': 16}\n",
    "\n",
    "\n",
    "\n",
    "# csail-dataset/mit-csail-3rd-floor-2005-12-17-run4.log\n",
    "# {'PARAM': 118, 'ROBOTLASER1': 1987, 'ODOM': 4187, 'RAWLASER1': 1987}\n",
    "\n",
    "# csail-dataset/csail.corrected.log\n",
    "# {'ODOM': 2393, 'FLASER': 405, 'NEFF': 405}\n",
    "\n",
    "# dataset/csail-dataset/csail.corrected.gfs <<<<<<\n",
    "# {'PARAM': 34, 'ODOM': 1987, 'ODO_UPDATE': 1987, 'FRAME': 406, 'LASER_READING': 405, 'SM_UPDATE': 405, 'NEFF': 405, 'RESAMPLE': 46}\n",
    "\n",
    "# csail-dataset/csail-oldcarmen.log\n",
    "# {'PARAM': 118, 'ROBOTLASER1': 1987, 'FLASER': 1987, 'ODOM': 4187, 'RAWLASER1': 1987}\n",
    "\n",
    "\n",
    "# intel-dataset/intel.gfs\n",
    "# {'PARAM': 34, 'ODO_UPDATE': 13630, 'FRAME': 910, 'LASER_READING': 909, 'SM_UPDATE': 909, 'NEFF': 909, 'RESAMPLE': 43}\n",
    "\n",
    "# intel-dataset/intel.gfs.log <<<< did not work, very bad map\n",
    "# {'ODOM': 14540, 'FLASER': 909, 'NEFF': 909}\n",
    "\n",
    "# intel-dataset/intel.log\n",
    "# {'PARAM': 1, 'ODOM': 26914, 'FLASER': 13630}"
   ]
  }
 ],
 "metadata": {
  "interpreter": {
   "hash": "996b530ecc723665077f1af8a318e123897270206c6f62f4b5012b3ce1808a20"
  },
  "kernelspec": {
   "display_name": "Python 3.8.10 ('slamVenv': venv)",
   "language": "python",
   "name": "python3"
  },
  "language_info": {
   "codemirror_mode": {
    "name": "ipython",
    "version": 3
   },
   "file_extension": ".py",
   "mimetype": "text/x-python",
   "name": "python",
   "nbconvert_exporter": "python",
   "pygments_lexer": "ipython3",
   "version": "3.8.10"
  },
  "orig_nbformat": 4
 },
 "nbformat": 4,
 "nbformat_minor": 2
}

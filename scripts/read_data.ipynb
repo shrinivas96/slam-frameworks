{
 "cells": [
  {
   "cell_type": "code",
   "execution_count": 1,
   "metadata": {},
   "outputs": [],
   "source": [
    "from os.path import exists\n",
    "import read_data as rd\n",
    "import numpy as np\n",
    "import tools"
   ]
  },
  {
   "cell_type": "code",
   "execution_count": 2,
   "metadata": {},
   "outputs": [
    {
     "name": "stdout",
     "output_type": "stream",
     "text": [
      "Saved file exists, loading.\n"
     ]
    }
   ],
   "source": [
    "filePath = \"../csail-dataset/mit-csail-3rd-floor-2005-12-17-run4.log\"\n",
    "savedFiles = [\"laser.npy\", \"odom.npy\"]\n",
    "if exists(savedFiles[0]) and exists(savedFiles[1]):\n",
    "    laser = np.load(\"laser.npy\", allow_pickle=True)\n",
    "    odom = np.load(\"odom.npy\", allow_pickle=True)\n",
    "    print(\"Saved file exists, loading.\")\n",
    "else:\n",
    "    laser, odom = rd.read_data(filePath)\n",
    "    np.save(\"laser.npy\", laser)\n",
    "    np.save(\"odom.npy\", odom)\n",
    "    print(\"Saved file does not exist. Saving.\")\n"
   ]
  }
 ],
 "metadata": {
  "interpreter": {
   "hash": "996b530ecc723665077f1af8a318e123897270206c6f62f4b5012b3ce1808a20"
  },
  "kernelspec": {
   "display_name": "Python 3.8.10 ('slamVenv': venv)",
   "language": "python",
   "name": "python3"
  },
  "language_info": {
   "codemirror_mode": {
    "name": "ipython",
    "version": 3
   },
   "file_extension": ".py",
   "mimetype": "text/x-python",
   "name": "python",
   "nbconvert_exporter": "python",
   "pygments_lexer": "ipython3",
   "version": "3.8.10"
  },
  "orig_nbformat": 4
 },
 "nbformat": 4,
 "nbformat_minor": 2
}
